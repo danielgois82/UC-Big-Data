{
  "cells": [
    {
      "cell_type": "markdown",
      "metadata": {
        "id": "-kFGa5-nqQ4e"
      },
      "source": [
        "### Objetivo: Consumir API\n",
        "\n",
        "#### Obs.: Foi alterado a API da atividade 1 para a atividade 2 pois a API antiga era muito simples.\n",
        "\n",
        "Acessando a url https://dadosabertos.bcb.gov.br/dataset/taxas-de-cambio-todos-os-boletins-diarios vocês terão acesso aos dados fornecidos pelo banco central sobre a taxa de cambio das moedas CHF, EUR, GBP, JPY e USD.\n",
        "Vocês podem consultar a API para obter a url para requisição dos dados."
      ]
    },
    {
      "cell_type": "code",
      "execution_count": 125,
      "metadata": {},
      "outputs": [
        {
          "name": "stdout",
          "output_type": "stream",
          "text": [
            "Data: 02-01-2023\n"
          ]
        }
      ],
      "source": [
        "moedas = (\"CHF\", \"EUR\", \"GBP\", \"JPY\", \"USD\")\n",
        "moeda = \"\"\n",
        "\n",
        "data = input(\"Digite a data para a cotação do dia no formato mm-dd-aaaa: \")\n",
        "print(f\"Data: {data}\")"
      ]
    },
    {
      "cell_type": "code",
      "execution_count": 126,
      "metadata": {
        "id": "cYiw6ED5qQ4h"
      },
      "outputs": [
        {
          "name": "stdout",
          "output_type": "stream",
          "text": [
            "Data inicial: 02-01-2023\n",
            "Data final: 06-30-2025\n"
          ]
        }
      ],
      "source": [
        "data_inicial = input(\"Digite a data inicial da cotação do dia no formato mm-dd-aaaa: \")\n",
        "data_final = input(\"Digite a data final da cotação do dia no formato mm-dd-aaaa: \")\n",
        "print(f\"Data inicial: {data_inicial}\")\n",
        "print(f\"Data final: {data_final}\")"
      ]
    },
    {
      "cell_type": "markdown",
      "metadata": {
        "id": "8BJ7k322qQ4i"
      },
      "source": [
        "Importar bibliotecas"
      ]
    },
    {
      "cell_type": "code",
      "execution_count": 127,
      "metadata": {
        "id": "ePWwGPEHqQ4i"
      },
      "outputs": [],
      "source": [
        "import pandas as pd  #possibilita manipulação e análise de dados\n",
        "import requests  #possibilita integração com serviços web, solicitações HTTP consumir dados de APIs\n",
        "import json  #manipular arquivo json"
      ]
    },
    {
      "cell_type": "markdown",
      "metadata": {
        "id": "r-g4xJd4qQ4j"
      },
      "source": [
        "Criar uma função para obter os dados:"
      ]
    },
    {
      "cell_type": "code",
      "execution_count": 128,
      "metadata": {
        "id": "EyOi0-LUqQ4j"
      },
      "outputs": [],
      "source": [
        "def requisicao_api_data(link, moeda):\n",
        "  resposta = requests.get(link)\n",
        "\n",
        "  if resposta.status_code == 200:      #sucesso na requisição\n",
        "    dados = resposta.json()\n",
        "    print('Status Code:', resposta.status_code)\n",
        "    with open(f'resultado_dia_{moeda}.json', 'w', encoding='utf-8') as arquivo:   #salvar arquivo json\n",
        "      json.dump(dados, arquivo, ensure_ascii=False, indent=4)\n",
        "\n",
        "  else:\n",
        "    print('Status Code:', resposta.status_code)\n",
        "\n",
        "def requisicao_api_periodo(link, moeda):\n",
        "  resposta = requests.get(link)\n",
        "\n",
        "  if resposta.status_code == 200:      #sucesso na requisição\n",
        "    dados = resposta.json()\n",
        "    print('Status Code:', resposta.status_code)\n",
        "    with open(f'resultado_periodo_{moeda}.json', 'w', encoding='utf-8') as arquivo:   #salvar arquivo json\n",
        "      json.dump(dados, arquivo, ensure_ascii=False, indent=4)\n",
        "\n",
        "  else:\n",
        "    print('Status Code:', resposta.status_code)\n"
      ]
    },
    {
      "cell_type": "markdown",
      "metadata": {
        "id": "TFo1EAwI2t9C"
      },
      "source": [
        "Chamar função passando o link gerado pela interface da API"
      ]
    },
    {
      "cell_type": "code",
      "execution_count": 129,
      "metadata": {
        "id": "gIwLweDatOkM"
      },
      "outputs": [
        {
          "name": "stdout",
          "output_type": "stream",
          "text": [
            "https://olinda.bcb.gov.br/olinda/servico/PTAX/versao/v1/odata/CotacaoMoedaDia(moeda=@moeda,dataCotacao=@dataCotacao)?@moeda='CHF'&@dataCotacao='02-01-2023'&$format=json&$select=paridadeCompra,paridadeVenda,cotacaoCompra,cotacaoVenda,dataHoraCotacao,tipoBoletim\n",
            "Status Code: 200\n",
            "https://olinda.bcb.gov.br/olinda/servico/PTAX/versao/v1/odata/CotacaoMoedaDia(moeda=@moeda,dataCotacao=@dataCotacao)?@moeda='EUR'&@dataCotacao='02-01-2023'&$format=json&$select=paridadeCompra,paridadeVenda,cotacaoCompra,cotacaoVenda,dataHoraCotacao,tipoBoletim\n",
            "Status Code: 200\n",
            "https://olinda.bcb.gov.br/olinda/servico/PTAX/versao/v1/odata/CotacaoMoedaDia(moeda=@moeda,dataCotacao=@dataCotacao)?@moeda='GBP'&@dataCotacao='02-01-2023'&$format=json&$select=paridadeCompra,paridadeVenda,cotacaoCompra,cotacaoVenda,dataHoraCotacao,tipoBoletim\n",
            "Status Code: 200\n",
            "https://olinda.bcb.gov.br/olinda/servico/PTAX/versao/v1/odata/CotacaoMoedaDia(moeda=@moeda,dataCotacao=@dataCotacao)?@moeda='JPY'&@dataCotacao='02-01-2023'&$format=json&$select=paridadeCompra,paridadeVenda,cotacaoCompra,cotacaoVenda,dataHoraCotacao,tipoBoletim\n",
            "Status Code: 200\n",
            "https://olinda.bcb.gov.br/olinda/servico/PTAX/versao/v1/odata/CotacaoMoedaDia(moeda=@moeda,dataCotacao=@dataCotacao)?@moeda='USD'&@dataCotacao='02-01-2023'&$format=json&$select=paridadeCompra,paridadeVenda,cotacaoCompra,cotacaoVenda,dataHoraCotacao,tipoBoletim\n",
            "Status Code: 200\n"
          ]
        }
      ],
      "source": [
        "for i in moedas:\n",
        "    moeda = i\n",
        "    url_cotacao_dia = f\"https://olinda.bcb.gov.br/olinda/servico/PTAX/versao/v1/odata/CotacaoMoedaDia(moeda=@moeda,dataCotacao=@dataCotacao)?@moeda='{moeda}'&@dataCotacao='{data}'&$format=json&$select=paridadeCompra,paridadeVenda,cotacaoCompra,cotacaoVenda,dataHoraCotacao,tipoBoletim\"\n",
        "    print(url_cotacao_dia)\n",
        "    requisicao_api_data(url_cotacao_dia, moeda)    "
      ]
    },
    {
      "cell_type": "markdown",
      "metadata": {
        "id": "EReT3g18qQ4j"
      },
      "source": [
        "Convertendo em DataFrame"
      ]
    },
    {
      "cell_type": "code",
      "execution_count": 130,
      "metadata": {
        "id": "meT0oRcsqQ4j"
      },
      "outputs": [],
      "source": [
        "jsondata_dia_CHF = pd.read_json('resultado_dia_CHF.json')\n",
        "jsondata_dia_EUR = pd.read_json('resultado_dia_EUR.json')\n",
        "jsondata_dia_GBP = pd.read_json('resultado_dia_GBP.json')\n",
        "jsondata_dia_JPY = pd.read_json('resultado_dia_JPY.json')\n",
        "jsondata_dia_USD = pd.read_json('resultado_dia_USD.json')"
      ]
    },
    {
      "cell_type": "code",
      "execution_count": 131,
      "metadata": {
        "id": "40ylowwB6jTr"
      },
      "outputs": [
        {
          "data": {
            "text/html": [
              "<div>\n",
              "<style scoped>\n",
              "    .dataframe tbody tr th:only-of-type {\n",
              "        vertical-align: middle;\n",
              "    }\n",
              "\n",
              "    .dataframe tbody tr th {\n",
              "        vertical-align: top;\n",
              "    }\n",
              "\n",
              "    .dataframe thead th {\n",
              "        text-align: right;\n",
              "    }\n",
              "</style>\n",
              "<table border=\"1\" class=\"dataframe\">\n",
              "  <thead>\n",
              "    <tr style=\"text-align: right;\">\n",
              "      <th></th>\n",
              "      <th>@odata.context</th>\n",
              "      <th>value</th>\n",
              "    </tr>\n",
              "  </thead>\n",
              "  <tbody>\n",
              "    <tr>\n",
              "      <th>0</th>\n",
              "      <td>https://was-p.bcnet.bcb.gov.br/olinda/servico/...</td>\n",
              "      <td>{'paridadeCompra': 1.0, 'paridadeVenda': 1.0, ...</td>\n",
              "    </tr>\n",
              "    <tr>\n",
              "      <th>1</th>\n",
              "      <td>https://was-p.bcnet.bcb.gov.br/olinda/servico/...</td>\n",
              "      <td>{'paridadeCompra': 1.0, 'paridadeVenda': 1.0, ...</td>\n",
              "    </tr>\n",
              "    <tr>\n",
              "      <th>2</th>\n",
              "      <td>https://was-p.bcnet.bcb.gov.br/olinda/servico/...</td>\n",
              "      <td>{'paridadeCompra': 1.0, 'paridadeVenda': 1.0, ...</td>\n",
              "    </tr>\n",
              "    <tr>\n",
              "      <th>3</th>\n",
              "      <td>https://was-p.bcnet.bcb.gov.br/olinda/servico/...</td>\n",
              "      <td>{'paridadeCompra': 1.0, 'paridadeVenda': 1.0, ...</td>\n",
              "    </tr>\n",
              "    <tr>\n",
              "      <th>4</th>\n",
              "      <td>https://was-p.bcnet.bcb.gov.br/olinda/servico/...</td>\n",
              "      <td>{'paridadeCompra': 1.0, 'paridadeVenda': 1.0, ...</td>\n",
              "    </tr>\n",
              "  </tbody>\n",
              "</table>\n",
              "</div>"
            ],
            "text/plain": [
              "                                      @odata.context  \\\n",
              "0  https://was-p.bcnet.bcb.gov.br/olinda/servico/...   \n",
              "1  https://was-p.bcnet.bcb.gov.br/olinda/servico/...   \n",
              "2  https://was-p.bcnet.bcb.gov.br/olinda/servico/...   \n",
              "3  https://was-p.bcnet.bcb.gov.br/olinda/servico/...   \n",
              "4  https://was-p.bcnet.bcb.gov.br/olinda/servico/...   \n",
              "\n",
              "                                               value  \n",
              "0  {'paridadeCompra': 1.0, 'paridadeVenda': 1.0, ...  \n",
              "1  {'paridadeCompra': 1.0, 'paridadeVenda': 1.0, ...  \n",
              "2  {'paridadeCompra': 1.0, 'paridadeVenda': 1.0, ...  \n",
              "3  {'paridadeCompra': 1.0, 'paridadeVenda': 1.0, ...  \n",
              "4  {'paridadeCompra': 1.0, 'paridadeVenda': 1.0, ...  "
            ]
          },
          "execution_count": 131,
          "metadata": {},
          "output_type": "execute_result"
        }
      ],
      "source": [
        "jsondata_dia_CHF\n",
        "jsondata_dia_EUR\n",
        "jsondata_dia_GBP\n",
        "jsondata_dia_JPY\n",
        "jsondata_dia_USD"
      ]
    },
    {
      "cell_type": "code",
      "execution_count": 132,
      "metadata": {},
      "outputs": [
        {
          "name": "stdout",
          "output_type": "stream",
          "text": [
            "https://olinda.bcb.gov.br/olinda/servico/PTAX/versao/v1/odata/CotacaoMoedaPeriodo(moeda=@moeda,dataInicial=@dataInicial,dataFinalCotacao=@dataFinalCotacao)?@moeda='CHF'&@dataInicial='02-01-2023'&@dataFinalCotacao='06-30-2025'&$format=json&$select=paridadeCompra,paridadeVenda,cotacaoCompra,cotacaoVenda,dataHoraCotacao,tipoBoletim\n",
            "Status Code: 200\n",
            "https://olinda.bcb.gov.br/olinda/servico/PTAX/versao/v1/odata/CotacaoMoedaPeriodo(moeda=@moeda,dataInicial=@dataInicial,dataFinalCotacao=@dataFinalCotacao)?@moeda='EUR'&@dataInicial='02-01-2023'&@dataFinalCotacao='06-30-2025'&$format=json&$select=paridadeCompra,paridadeVenda,cotacaoCompra,cotacaoVenda,dataHoraCotacao,tipoBoletim\n",
            "Status Code: 200\n",
            "https://olinda.bcb.gov.br/olinda/servico/PTAX/versao/v1/odata/CotacaoMoedaPeriodo(moeda=@moeda,dataInicial=@dataInicial,dataFinalCotacao=@dataFinalCotacao)?@moeda='GBP'&@dataInicial='02-01-2023'&@dataFinalCotacao='06-30-2025'&$format=json&$select=paridadeCompra,paridadeVenda,cotacaoCompra,cotacaoVenda,dataHoraCotacao,tipoBoletim\n",
            "Status Code: 200\n",
            "https://olinda.bcb.gov.br/olinda/servico/PTAX/versao/v1/odata/CotacaoMoedaPeriodo(moeda=@moeda,dataInicial=@dataInicial,dataFinalCotacao=@dataFinalCotacao)?@moeda='JPY'&@dataInicial='02-01-2023'&@dataFinalCotacao='06-30-2025'&$format=json&$select=paridadeCompra,paridadeVenda,cotacaoCompra,cotacaoVenda,dataHoraCotacao,tipoBoletim\n",
            "Status Code: 200\n",
            "https://olinda.bcb.gov.br/olinda/servico/PTAX/versao/v1/odata/CotacaoMoedaPeriodo(moeda=@moeda,dataInicial=@dataInicial,dataFinalCotacao=@dataFinalCotacao)?@moeda='USD'&@dataInicial='02-01-2023'&@dataFinalCotacao='06-30-2025'&$format=json&$select=paridadeCompra,paridadeVenda,cotacaoCompra,cotacaoVenda,dataHoraCotacao,tipoBoletim\n",
            "Status Code: 200\n"
          ]
        }
      ],
      "source": [
        "for i in moedas:\n",
        "    moeda = i\n",
        "    url_cotacao_periodo = f\"https://olinda.bcb.gov.br/olinda/servico/PTAX/versao/v1/odata/CotacaoMoedaPeriodo(moeda=@moeda,dataInicial=@dataInicial,dataFinalCotacao=@dataFinalCotacao)?@moeda='{moeda}'&@dataInicial='{data_inicial}'&@dataFinalCotacao='{data_final}'&$format=json&$select=paridadeCompra,paridadeVenda,cotacaoCompra,cotacaoVenda,dataHoraCotacao,tipoBoletim\"\n",
        "    print(url_cotacao_periodo)\n",
        "    requisicao_api_periodo(url_cotacao_periodo, moeda)"
      ]
    },
    {
      "cell_type": "code",
      "execution_count": 133,
      "metadata": {},
      "outputs": [],
      "source": [
        "jsondata_periodo_CHF = pd.read_json('resultado_periodo_CHF.json')\n",
        "jsondata_periodo_EUR = pd.read_json('resultado_periodo_EUR.json')\n",
        "jsondata_periodo_GBP = pd.read_json('resultado_periodo_GBP.json')\n",
        "jsondata_periodo_JPY = pd.read_json('resultado_periodo_JPY.json')\n",
        "jsondata_periodo_USD = pd.read_json('resultado_periodo_USD.json')"
      ]
    },
    {
      "cell_type": "code",
      "execution_count": 134,
      "metadata": {},
      "outputs": [
        {
          "data": {
            "text/html": [
              "<div>\n",
              "<style scoped>\n",
              "    .dataframe tbody tr th:only-of-type {\n",
              "        vertical-align: middle;\n",
              "    }\n",
              "\n",
              "    .dataframe tbody tr th {\n",
              "        vertical-align: top;\n",
              "    }\n",
              "\n",
              "    .dataframe thead th {\n",
              "        text-align: right;\n",
              "    }\n",
              "</style>\n",
              "<table border=\"1\" class=\"dataframe\">\n",
              "  <thead>\n",
              "    <tr style=\"text-align: right;\">\n",
              "      <th></th>\n",
              "      <th>@odata.context</th>\n",
              "      <th>value</th>\n",
              "    </tr>\n",
              "  </thead>\n",
              "  <tbody>\n",
              "    <tr>\n",
              "      <th>0</th>\n",
              "      <td>https://was-p.bcnet.bcb.gov.br/olinda/servico/...</td>\n",
              "      <td>{'paridadeCompra': 1.0, 'paridadeVenda': 1.0, ...</td>\n",
              "    </tr>\n",
              "    <tr>\n",
              "      <th>1</th>\n",
              "      <td>https://was-p.bcnet.bcb.gov.br/olinda/servico/...</td>\n",
              "      <td>{'paridadeCompra': 1.0, 'paridadeVenda': 1.0, ...</td>\n",
              "    </tr>\n",
              "    <tr>\n",
              "      <th>2</th>\n",
              "      <td>https://was-p.bcnet.bcb.gov.br/olinda/servico/...</td>\n",
              "      <td>{'paridadeCompra': 1.0, 'paridadeVenda': 1.0, ...</td>\n",
              "    </tr>\n",
              "    <tr>\n",
              "      <th>3</th>\n",
              "      <td>https://was-p.bcnet.bcb.gov.br/olinda/servico/...</td>\n",
              "      <td>{'paridadeCompra': 1.0, 'paridadeVenda': 1.0, ...</td>\n",
              "    </tr>\n",
              "    <tr>\n",
              "      <th>4</th>\n",
              "      <td>https://was-p.bcnet.bcb.gov.br/olinda/servico/...</td>\n",
              "      <td>{'paridadeCompra': 1.0, 'paridadeVenda': 1.0, ...</td>\n",
              "    </tr>\n",
              "    <tr>\n",
              "      <th>...</th>\n",
              "      <td>...</td>\n",
              "      <td>...</td>\n",
              "    </tr>\n",
              "    <tr>\n",
              "      <th>2992</th>\n",
              "      <td>https://was-p.bcnet.bcb.gov.br/olinda/servico/...</td>\n",
              "      <td>{'paridadeCompra': 1.0, 'paridadeVenda': 1.0, ...</td>\n",
              "    </tr>\n",
              "    <tr>\n",
              "      <th>2993</th>\n",
              "      <td>https://was-p.bcnet.bcb.gov.br/olinda/servico/...</td>\n",
              "      <td>{'paridadeCompra': 1.0, 'paridadeVenda': 1.0, ...</td>\n",
              "    </tr>\n",
              "    <tr>\n",
              "      <th>2994</th>\n",
              "      <td>https://was-p.bcnet.bcb.gov.br/olinda/servico/...</td>\n",
              "      <td>{'paridadeCompra': 1.0, 'paridadeVenda': 1.0, ...</td>\n",
              "    </tr>\n",
              "    <tr>\n",
              "      <th>2995</th>\n",
              "      <td>https://was-p.bcnet.bcb.gov.br/olinda/servico/...</td>\n",
              "      <td>{'paridadeCompra': 1.0, 'paridadeVenda': 1.0, ...</td>\n",
              "    </tr>\n",
              "    <tr>\n",
              "      <th>2996</th>\n",
              "      <td>https://was-p.bcnet.bcb.gov.br/olinda/servico/...</td>\n",
              "      <td>{'paridadeCompra': 1.0, 'paridadeVenda': 1.0, ...</td>\n",
              "    </tr>\n",
              "  </tbody>\n",
              "</table>\n",
              "<p>2997 rows × 2 columns</p>\n",
              "</div>"
            ],
            "text/plain": [
              "                                         @odata.context  \\\n",
              "0     https://was-p.bcnet.bcb.gov.br/olinda/servico/...   \n",
              "1     https://was-p.bcnet.bcb.gov.br/olinda/servico/...   \n",
              "2     https://was-p.bcnet.bcb.gov.br/olinda/servico/...   \n",
              "3     https://was-p.bcnet.bcb.gov.br/olinda/servico/...   \n",
              "4     https://was-p.bcnet.bcb.gov.br/olinda/servico/...   \n",
              "...                                                 ...   \n",
              "2992  https://was-p.bcnet.bcb.gov.br/olinda/servico/...   \n",
              "2993  https://was-p.bcnet.bcb.gov.br/olinda/servico/...   \n",
              "2994  https://was-p.bcnet.bcb.gov.br/olinda/servico/...   \n",
              "2995  https://was-p.bcnet.bcb.gov.br/olinda/servico/...   \n",
              "2996  https://was-p.bcnet.bcb.gov.br/olinda/servico/...   \n",
              "\n",
              "                                                  value  \n",
              "0     {'paridadeCompra': 1.0, 'paridadeVenda': 1.0, ...  \n",
              "1     {'paridadeCompra': 1.0, 'paridadeVenda': 1.0, ...  \n",
              "2     {'paridadeCompra': 1.0, 'paridadeVenda': 1.0, ...  \n",
              "3     {'paridadeCompra': 1.0, 'paridadeVenda': 1.0, ...  \n",
              "4     {'paridadeCompra': 1.0, 'paridadeVenda': 1.0, ...  \n",
              "...                                                 ...  \n",
              "2992  {'paridadeCompra': 1.0, 'paridadeVenda': 1.0, ...  \n",
              "2993  {'paridadeCompra': 1.0, 'paridadeVenda': 1.0, ...  \n",
              "2994  {'paridadeCompra': 1.0, 'paridadeVenda': 1.0, ...  \n",
              "2995  {'paridadeCompra': 1.0, 'paridadeVenda': 1.0, ...  \n",
              "2996  {'paridadeCompra': 1.0, 'paridadeVenda': 1.0, ...  \n",
              "\n",
              "[2997 rows x 2 columns]"
            ]
          },
          "execution_count": 134,
          "metadata": {},
          "output_type": "execute_result"
        }
      ],
      "source": [
        "jsondata_periodo_CHF\n",
        "jsondata_periodo_EUR\n",
        "jsondata_periodo_GBP\n",
        "jsondata_periodo_JPY\n",
        "jsondata_periodo_USD"
      ]
    },
    {
      "cell_type": "code",
      "execution_count": 135,
      "metadata": {
        "id": "0auyOcQ3xKzU"
      },
      "outputs": [],
      "source": [
        "data_dia_CHF = jsondata_dia_CHF['value']\n",
        "data_dia_EUR = jsondata_dia_EUR['value']\n",
        "data_dia_GBP = jsondata_dia_GBP['value']\n",
        "data_dia_JPY = jsondata_dia_JPY['value']\n",
        "data_dia_USD = jsondata_dia_USD['value']\n",
        "\n",
        "data_periodo_CHF = jsondata_periodo_CHF['value']\n",
        "data_periodo_EUR = jsondata_periodo_EUR['value']\n",
        "data_periodo_GBP = jsondata_periodo_GBP['value']\n",
        "data_periodo_JPY = jsondata_periodo_JPY['value']\n",
        "data_periodo_USD = jsondata_periodo_USD['value']"
      ]
    },
    {
      "cell_type": "code",
      "execution_count": 136,
      "metadata": {
        "id": "RB8qg76KBlWH"
      },
      "outputs": [],
      "source": [
        "dados_dia_CHF_df = pd.json_normalize(data_dia_CHF)\n",
        "dados_dia_EUR_df = pd.json_normalize(data_dia_EUR)\n",
        "dados_dia_GBP_df = pd.json_normalize(data_dia_GBP)\n",
        "dados_dia_JPY_df = pd.json_normalize(data_dia_JPY)\n",
        "dados_dia_USD_df = pd.json_normalize(data_dia_USD)\n",
        "\n",
        "dados_periodo_CHF_df = pd.json_normalize(data_periodo_CHF)\n",
        "dados_periodo_EUR_df = pd.json_normalize(data_periodo_EUR)\n",
        "dados_periodo_GBP_df = pd.json_normalize(data_periodo_GBP)\n",
        "dados_periodo_JPY_df = pd.json_normalize(data_periodo_JPY)\n",
        "dados_periodo_USD_df = pd.json_normalize(data_periodo_USD)"
      ]
    },
    {
      "cell_type": "markdown",
      "metadata": {
        "id": "AKKhUeGe27n3"
      },
      "source": [
        "Exibindo os primeiros valores do Dataframe"
      ]
    },
    {
      "cell_type": "code",
      "execution_count": 137,
      "metadata": {
        "id": "P3fupEO53AQ0"
      },
      "outputs": [
        {
          "name": "stdout",
          "output_type": "stream",
          "text": [
            "CHF    paridadeCompra  paridadeVenda  cotacaoCompra  cotacaoVenda  \\\n",
            "0          0.9158         0.9162         5.5291        5.5322   \n",
            "1          0.9152         0.9153         5.5321        5.5333   \n",
            "2          0.9153         0.9159         5.5483        5.5526   \n",
            "3          0.9141         0.9142         5.5511        5.5523   \n",
            "4          0.9141         0.9142         5.5475        5.5487   \n",
            "\n",
            "           dataHoraCotacao      tipoBoletim  \n",
            "0   2023-02-01 10:08:17.93         Abertura  \n",
            "1  2023-02-01 11:06:16.863    Intermediário  \n",
            "2  2023-02-01 12:02:17.664    Intermediário  \n",
            "3  2023-02-01 13:04:22.992    Intermediário  \n",
            "4  2023-02-01 13:04:23.003  Fechamento PTAX  \n",
            "EUR    paridadeCompra  paridadeVenda  cotacaoCompra  cotacaoVenda  \\\n",
            "0          1.0890         1.0894         5.5167        5.5193   \n",
            "1          1.0902         1.0906         5.5202        5.5229   \n",
            "2          1.0902         1.0906         5.5401        5.5428   \n",
            "3          1.0917         1.0921         5.5402        5.5428   \n",
            "4          1.0917         1.0921         5.5366        5.5392   \n",
            "\n",
            "           dataHoraCotacao      tipoBoletim  \n",
            "0   2023-02-01 10:08:17.93         Abertura  \n",
            "1  2023-02-01 11:06:16.863    Intermediário  \n",
            "2  2023-02-01 12:02:17.664    Intermediário  \n",
            "3  2023-02-01 13:04:22.992    Intermediário  \n",
            "4  2023-02-01 13:04:23.003  Fechamento PTAX  \n",
            "GBP    paridadeCompra  paridadeVenda  cotacaoCompra  cotacaoVenda  \\\n",
            "0          1.2325         1.2328         6.2436        6.2459   \n",
            "1          1.2337         1.2341         6.2468        6.2496   \n",
            "2          1.2339         1.2344         6.2703        6.2736   \n",
            "3          1.2323         1.2328         6.2537        6.2570   \n",
            "4          1.2323         1.2328         6.2496        6.2529   \n",
            "\n",
            "           dataHoraCotacao      tipoBoletim  \n",
            "0   2023-02-01 10:08:17.93         Abertura  \n",
            "1  2023-02-01 11:06:16.863    Intermediário  \n",
            "2  2023-02-01 12:02:17.664    Intermediário  \n",
            "3  2023-02-01 13:04:22.992    Intermediário  \n",
            "4  2023-02-01 13:04:23.003  Fechamento PTAX  \n",
            "JPY    paridadeCompra  paridadeVenda  cotacaoCompra  cotacaoVenda  \\\n",
            "0          129.83         129.86        0.03901       0.03902   \n",
            "1          129.37         129.40        0.03913       0.03914   \n",
            "2          129.33         129.36        0.03928       0.03930   \n",
            "3          129.26         129.27        0.03926       0.03927   \n",
            "4          129.26         129.27        0.03923       0.03924   \n",
            "\n",
            "           dataHoraCotacao      tipoBoletim  \n",
            "0   2023-02-01 10:08:17.93         Abertura  \n",
            "1  2023-02-01 11:06:16.863    Intermediário  \n",
            "2  2023-02-01 12:02:17.664    Intermediário  \n",
            "3  2023-02-01 13:04:22.992    Intermediário  \n",
            "4  2023-02-01 13:04:23.003  Fechamento PTAX  \n",
            "USD    paridadeCompra  paridadeVenda  cotacaoCompra  cotacaoVenda  \\\n",
            "0             1.0            1.0         5.0658        5.0664   \n",
            "1             1.0            1.0         5.0635        5.0641   \n",
            "2             1.0            1.0         5.0817        5.0823   \n",
            "3             1.0            1.0         5.0748        5.0754   \n",
            "4             1.0            1.0         5.0715        5.0721   \n",
            "\n",
            "           dataHoraCotacao      tipoBoletim  \n",
            "0   2023-02-01 10:08:17.93         Abertura  \n",
            "1  2023-02-01 11:06:16.863    Intermediário  \n",
            "2  2023-02-01 12:02:17.664    Intermediário  \n",
            "3  2023-02-01 13:04:22.992    Intermediário  \n",
            "4  2023-02-01 13:04:23.003  Fechamento PTAX  \n"
          ]
        }
      ],
      "source": [
        "print(\"CHF\", dados_dia_CHF_df.head())\n",
        "print(\"EUR\", dados_dia_EUR_df.head())\n",
        "print(\"GBP\", dados_dia_GBP_df.head())\n",
        "print(\"JPY\", dados_dia_JPY_df.head())\n",
        "print(\"USD\", dados_dia_USD_df.head())"
      ]
    },
    {
      "cell_type": "code",
      "execution_count": 138,
      "metadata": {},
      "outputs": [
        {
          "name": "stdout",
          "output_type": "stream",
          "text": [
            "CHF    paridadeCompra  paridadeVenda  cotacaoCompra  cotacaoVenda  \\\n",
            "0          0.9158         0.9162         5.5291        5.5322   \n",
            "1          0.9152         0.9153         5.5321        5.5333   \n",
            "2          0.9153         0.9159         5.5483        5.5526   \n",
            "3          0.9141         0.9142         5.5511        5.5523   \n",
            "4          0.9141         0.9142         5.5475        5.5487   \n",
            "\n",
            "           dataHoraCotacao    tipoBoletim  \n",
            "0   2023-02-01 10:08:17.93       Abertura  \n",
            "1  2023-02-01 11:06:16.863  Intermediário  \n",
            "2  2023-02-01 12:02:17.664  Intermediário  \n",
            "3  2023-02-01 13:04:22.992  Intermediário  \n",
            "4  2023-02-01 13:04:23.003     Fechamento  \n",
            "EUR    paridadeCompra  paridadeVenda  cotacaoCompra  cotacaoVenda  \\\n",
            "0          1.0890         1.0894         5.5167        5.5193   \n",
            "1          1.0902         1.0906         5.5202        5.5229   \n",
            "2          1.0902         1.0906         5.5401        5.5428   \n",
            "3          1.0917         1.0921         5.5402        5.5428   \n",
            "4          1.0917         1.0921         5.5366        5.5392   \n",
            "\n",
            "           dataHoraCotacao    tipoBoletim  \n",
            "0   2023-02-01 10:08:17.93       Abertura  \n",
            "1  2023-02-01 11:06:16.863  Intermediário  \n",
            "2  2023-02-01 12:02:17.664  Intermediário  \n",
            "3  2023-02-01 13:04:22.992  Intermediário  \n",
            "4  2023-02-01 13:04:23.003     Fechamento  \n",
            "GBP    paridadeCompra  paridadeVenda  cotacaoCompra  cotacaoVenda  \\\n",
            "0          1.2325         1.2328         6.2436        6.2459   \n",
            "1          1.2337         1.2341         6.2468        6.2496   \n",
            "2          1.2339         1.2344         6.2703        6.2736   \n",
            "3          1.2323         1.2328         6.2537        6.2570   \n",
            "4          1.2323         1.2328         6.2496        6.2529   \n",
            "\n",
            "           dataHoraCotacao    tipoBoletim  \n",
            "0   2023-02-01 10:08:17.93       Abertura  \n",
            "1  2023-02-01 11:06:16.863  Intermediário  \n",
            "2  2023-02-01 12:02:17.664  Intermediário  \n",
            "3  2023-02-01 13:04:22.992  Intermediário  \n",
            "4  2023-02-01 13:04:23.003     Fechamento  \n",
            "JPY    paridadeCompra  paridadeVenda  cotacaoCompra  cotacaoVenda  \\\n",
            "0          129.83         129.86        0.03901       0.03902   \n",
            "1          129.37         129.40        0.03913       0.03914   \n",
            "2          129.33         129.36        0.03928       0.03930   \n",
            "3          129.26         129.27        0.03926       0.03927   \n",
            "4          129.26         129.27        0.03923       0.03924   \n",
            "\n",
            "           dataHoraCotacao    tipoBoletim  \n",
            "0   2023-02-01 10:08:17.93       Abertura  \n",
            "1  2023-02-01 11:06:16.863  Intermediário  \n",
            "2  2023-02-01 12:02:17.664  Intermediário  \n",
            "3  2023-02-01 13:04:22.992  Intermediário  \n",
            "4  2023-02-01 13:04:23.003     Fechamento  \n",
            "USD    paridadeCompra  paridadeVenda  cotacaoCompra  cotacaoVenda  \\\n",
            "0             1.0            1.0         5.0658        5.0664   \n",
            "1             1.0            1.0         5.0635        5.0641   \n",
            "2             1.0            1.0         5.0817        5.0823   \n",
            "3             1.0            1.0         5.0748        5.0754   \n",
            "4             1.0            1.0         5.0715        5.0721   \n",
            "\n",
            "           dataHoraCotacao    tipoBoletim  \n",
            "0   2023-02-01 10:08:17.93       Abertura  \n",
            "1  2023-02-01 11:06:16.863  Intermediário  \n",
            "2  2023-02-01 12:02:17.664  Intermediário  \n",
            "3  2023-02-01 13:04:22.992  Intermediário  \n",
            "4  2023-02-01 13:04:23.003     Fechamento  \n"
          ]
        }
      ],
      "source": [
        "print(\"CHF\", dados_periodo_CHF_df.head())\n",
        "print(\"EUR\", dados_periodo_EUR_df.head())\n",
        "print(\"GBP\", dados_periodo_GBP_df.head())\n",
        "print(\"JPY\", dados_periodo_JPY_df.head())\n",
        "print(\"USD\", dados_periodo_USD_df.head())"
      ]
    },
    {
      "cell_type": "code",
      "execution_count": 139,
      "metadata": {
        "id": "zy8Z70EVoTQ1"
      },
      "outputs": [],
      "source": [
        "# Salvando oS DataFrameS em um arquivo CSV\n",
        "dados_dia_CHF_df.to_csv(\"resultado_dia_CHF.csv\", sep=\";\", index=False, encoding=\"utf-8\")\n",
        "dados_dia_EUR_df.to_csv(\"resultado_dia_EUR.csv\", sep=\";\", index=False, encoding=\"utf-8\")\n",
        "dados_dia_GBP_df.to_csv(\"resultado_dia_GBP.csv\", sep=\";\", index=False, encoding=\"utf-8\")\n",
        "dados_dia_JPY_df.to_csv(\"resultado_dia_JPY.csv\", sep=\";\", index=False, encoding=\"utf-8\")\n",
        "dados_dia_USD_df.to_csv(\"resultado_dia_USD.csv\", sep=\";\", index=False, encoding=\"utf-8\")\n",
        "\n",
        "dados_periodo_CHF_df.to_csv('resultado_periodo_CHF.csv', sep=\";\", index=False, encoding=\"utf-8\")\n",
        "dados_periodo_EUR_df.to_csv('resultado_periodo_EUR.csv', sep=\";\", index=False, encoding=\"utf-8\")\n",
        "dados_periodo_GBP_df.to_csv('resultado_periodo_GBP.csv', sep=\";\", index=False, encoding=\"utf-8\")\n",
        "dados_periodo_JPY_df.to_csv('resultado_periodo_JPY.csv', sep=\";\", index=False, encoding=\"utf-8\")\n",
        "dados_periodo_USD_df.to_csv('resultado_periodo_USD.csv', sep=\";\", index=False, encoding=\"utf-8\")"
      ]
    },
    {
      "cell_type": "markdown",
      "metadata": {
        "id": "9df09bbc"
      },
      "source": [
        "Verificando valores nulos e exibindo os tipos de dados em `dados_df`:"
      ]
    },
    {
      "cell_type": "code",
      "execution_count": 140,
      "metadata": {
        "id": "8a03be8f"
      },
      "outputs": [
        {
          "name": "stdout",
          "output_type": "stream",
          "text": [
            "Contagem de Valores NULOS - dados_dia_CHF_df:\n",
            "paridadeCompra     0\n",
            "paridadeVenda      0\n",
            "cotacaoCompra      0\n",
            "cotacaoVenda       0\n",
            "dataHoraCotacao    0\n",
            "tipoBoletim        0\n",
            "dtype: int64\n",
            "\n",
            "Tipos de Dados:\n",
            "paridadeCompra     float64\n",
            "paridadeVenda      float64\n",
            "cotacaoCompra      float64\n",
            "cotacaoVenda       float64\n",
            "dataHoraCotacao     object\n",
            "tipoBoletim         object\n",
            "dtype: object\n",
            "Contagem de Valores NULOS - dados_dia_EUR_df:\n",
            "paridadeCompra     0\n",
            "paridadeVenda      0\n",
            "cotacaoCompra      0\n",
            "cotacaoVenda       0\n",
            "dataHoraCotacao    0\n",
            "tipoBoletim        0\n",
            "dtype: int64\n",
            "\n",
            "Tipos de Dados:\n",
            "paridadeCompra     float64\n",
            "paridadeVenda      float64\n",
            "cotacaoCompra      float64\n",
            "cotacaoVenda       float64\n",
            "dataHoraCotacao     object\n",
            "tipoBoletim         object\n",
            "dtype: object\n",
            "Contagem de Valores NULOS - dados_dia_GBP_df:\n",
            "paridadeCompra     0\n",
            "paridadeVenda      0\n",
            "cotacaoCompra      0\n",
            "cotacaoVenda       0\n",
            "dataHoraCotacao    0\n",
            "tipoBoletim        0\n",
            "dtype: int64\n",
            "\n",
            "Tipos de Dados:\n",
            "paridadeCompra     float64\n",
            "paridadeVenda      float64\n",
            "cotacaoCompra      float64\n",
            "cotacaoVenda       float64\n",
            "dataHoraCotacao     object\n",
            "tipoBoletim         object\n",
            "dtype: object\n",
            "Contagem de Valores NULOS - dados_dia_JPY_df:\n",
            "paridadeCompra     0\n",
            "paridadeVenda      0\n",
            "cotacaoCompra      0\n",
            "cotacaoVenda       0\n",
            "dataHoraCotacao    0\n",
            "tipoBoletim        0\n",
            "dtype: int64\n",
            "\n",
            "Tipos de Dados:\n",
            "paridadeCompra     float64\n",
            "paridadeVenda      float64\n",
            "cotacaoCompra      float64\n",
            "cotacaoVenda       float64\n",
            "dataHoraCotacao     object\n",
            "tipoBoletim         object\n",
            "dtype: object\n",
            "Contagem de Valores NULOS - dados_dia_USD_df:\n",
            "paridadeCompra     0\n",
            "paridadeVenda      0\n",
            "cotacaoCompra      0\n",
            "cotacaoVenda       0\n",
            "dataHoraCotacao    0\n",
            "tipoBoletim        0\n",
            "dtype: int64\n",
            "\n",
            "Tipos de Dados:\n",
            "paridadeCompra     float64\n",
            "paridadeVenda      float64\n",
            "cotacaoCompra      float64\n",
            "cotacaoVenda       float64\n",
            "dataHoraCotacao     object\n",
            "tipoBoletim         object\n",
            "dtype: object\n"
          ]
        }
      ],
      "source": [
        "print(\"Contagem de Valores NULOS - dados_dia_CHF_df:\")\n",
        "print(dados_dia_CHF_df.isnull().sum())\n",
        "\n",
        "print(\"\\nTipos de Dados:\")\n",
        "print(dados_dia_CHF_df.dtypes)\n",
        "\n",
        "print(\"Contagem de Valores NULOS - dados_dia_EUR_df:\")\n",
        "print(dados_dia_EUR_df.isnull().sum())\n",
        "\n",
        "print(\"\\nTipos de Dados:\")\n",
        "print(dados_dia_EUR_df.dtypes)\n",
        "\n",
        "print(\"Contagem de Valores NULOS - dados_dia_GBP_df:\")\n",
        "print(dados_dia_GBP_df.isnull().sum())\n",
        "\n",
        "print(\"\\nTipos de Dados:\")\n",
        "print(dados_dia_GBP_df.dtypes)\n",
        "\n",
        "print(\"Contagem de Valores NULOS - dados_dia_JPY_df:\")\n",
        "print(dados_dia_JPY_df.isnull().sum())\n",
        "\n",
        "print(\"\\nTipos de Dados:\")\n",
        "print(dados_dia_JPY_df.dtypes)\n",
        "\n",
        "print(\"Contagem de Valores NULOS - dados_dia_USD_df:\")\n",
        "print(dados_dia_CHF_df.isnull().sum())\n",
        "\n",
        "print(\"\\nTipos de Dados:\")\n",
        "print(dados_dia_USD_df.dtypes)"
      ]
    },
    {
      "cell_type": "markdown",
      "metadata": {},
      "source": [
        "Obs.: Não é necessário renomear nem padronizar as colunas dos dataframs"
      ]
    }
  ],
  "metadata": {
    "colab": {
      "provenance": []
    },
    "kernelspec": {
      "display_name": ".venv (3.13.0)",
      "language": "python",
      "name": "python3"
    },
    "language_info": {
      "codemirror_mode": {
        "name": "ipython",
        "version": 3
      },
      "file_extension": ".py",
      "mimetype": "text/x-python",
      "name": "python",
      "nbconvert_exporter": "python",
      "pygments_lexer": "ipython3",
      "version": "3.13.0"
    }
  },
  "nbformat": 4,
  "nbformat_minor": 0
}
