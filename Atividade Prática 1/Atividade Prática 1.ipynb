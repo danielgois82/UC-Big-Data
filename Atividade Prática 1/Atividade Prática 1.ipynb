{
  "cells": [
    {
      "cell_type": "markdown",
      "metadata": {
        "id": "-kFGa5-nqQ4e"
      },
      "source": [
        "### Objetivo: Consumir API\n",
        "\n",
        "Acessando a url https://dadosabertos.bcb.gov.br/dataset/estatisticas-meios-pagamentos vocês terão acesso aos dados fornecidos pelo banco central sobre meios de pagamentos.\n",
        "Vocês podem consultar a API para obter a url para requisição dos dados.\n",
        "\n",
        "\n",
        "Determine a url fornecida:"
      ]
    },
    {
      "cell_type": "code",
      "execution_count": 1,
      "metadata": {
        "id": "cYiw6ED5qQ4h"
      },
      "outputs": [
        {
          "name": "stdout",
          "output_type": "stream",
          "text": [
            "Data informada da cotação do Dólar no formato: MM-DD-AAAA: 01-02-2023\n",
            "Período inicial informado da cotação do Dólar no formato: MM-DD-AAAA: 01-02-2023\n",
            "Período final informado da cotação do Dólar no formato: MM-DD-AAAA: 06-30-2025\n"
          ]
        }
      ],
      "source": [
        "data_mm_dd_aaaa = input(\"Digite a data da cotação do Dólar no formato: MM-DD-AAAA: \")\n",
        "\n",
        "data_inicio = input(\"Digite a data de ínicio do período da cotação do Dólar no formato: MM-DD-AAAA: \")\n",
        "data_fim = input(\"Digite a data de ínicio do período da cotação do Dólar no formato: MM-DD-AAAA: \")\n",
        "\n",
        "url_cotacao_dia = f\"https://olinda.bcb.gov.br/olinda/servico/PTAX/versao/v1/odata/CotacaoDolarDia(dataCotacao=@dataCotacao)?@dataCotacao='{data_mm_dd_aaaa}'&$top=100&$format=json&$select=cotacaoCompra,cotacaoVenda,dataHoraCotacao\"\n",
        "\n",
        "url_cotacao_periodo = f\"https://olinda.bcb.gov.br/olinda/servico/PTAX/versao/v1/odata/CotacaoDolarPeriodo(dataInicial=@dataInicial,dataFinalCotacao=@dataFinalCotacao)?@dataInicial='{data_inicio}'&@dataFinalCotacao='{data_fim}'&$format=json&$select=cotacaoCompra,cotacaoVenda,dataHoraCotacao\"\n",
        "\n",
        "print(f\"Data informada da cotação do Dólar no formato: MM-DD-AAAA: {data_mm_dd_aaaa}\")\n",
        "print(f\"Período inicial informado da cotação do Dólar no formato: MM-DD-AAAA: {data_inicio}\")\n",
        "print(f\"Período final informado da cotação do Dólar no formato: MM-DD-AAAA: {data_fim}\")"
      ]
    },
    {
      "cell_type": "markdown",
      "metadata": {
        "id": "8BJ7k322qQ4i"
      },
      "source": [
        "Importar bibliotecas"
      ]
    },
    {
      "cell_type": "code",
      "execution_count": 2,
      "metadata": {
        "id": "ePWwGPEHqQ4i"
      },
      "outputs": [],
      "source": [
        "import pandas as pd  #possibilita manipulação e análise de dados\n",
        "import requests  #possibilita integração com serviços web, solicitações HTTP consumir dados de APIs\n",
        "import json  #manipular arquivo json"
      ]
    },
    {
      "cell_type": "markdown",
      "metadata": {
        "id": "r-g4xJd4qQ4j"
      },
      "source": [
        "Criar uma função para obter os dados:"
      ]
    },
    {
      "cell_type": "code",
      "execution_count": 3,
      "metadata": {
        "id": "EyOi0-LUqQ4j"
      },
      "outputs": [],
      "source": [
        "def requisicao_api_data(link):\n",
        "  resposta = requests.get(link)\n",
        "\n",
        "  if resposta.status_code == 200:      #sucesso na requisição\n",
        "    dados = resposta.json()\n",
        "    print('Status Code:', resposta.status_code)\n",
        "    with open('resultado_dia.json', 'w', encoding='utf-8') as arquivo:   #salvar arquivo json\n",
        "      json.dump(dados, arquivo, ensure_ascii=False, indent=4)\n",
        "\n",
        "  else:\n",
        "    print('Status Code:', resposta.status_code)\n",
        "\n",
        "def requisicao_api_periodo(link):\n",
        "  resposta = requests.get(link)\n",
        "\n",
        "  if resposta.status_code == 200:      #sucesso na requisição\n",
        "    dados = resposta.json()\n",
        "    print('Status Code:', resposta.status_code)\n",
        "    with open('resultado_periodo.json', 'w', encoding='utf-8') as arquivo:   #salvar arquivo json\n",
        "      json.dump(dados, arquivo, ensure_ascii=False, indent=4)\n",
        "\n",
        "  else:\n",
        "    print('Status Code:', resposta.status_code)\n"
      ]
    },
    {
      "cell_type": "markdown",
      "metadata": {
        "id": "TFo1EAwI2t9C"
      },
      "source": [
        "Chamar função passando o link gerado pela interface da API"
      ]
    },
    {
      "cell_type": "code",
      "execution_count": 4,
      "metadata": {
        "id": "gIwLweDatOkM"
      },
      "outputs": [
        {
          "name": "stdout",
          "output_type": "stream",
          "text": [
            "Status Code: 200\n"
          ]
        }
      ],
      "source": [
        "requisicao_api_data(url_cotacao_dia)"
      ]
    },
    {
      "cell_type": "code",
      "execution_count": 5,
      "metadata": {},
      "outputs": [
        {
          "name": "stdout",
          "output_type": "stream",
          "text": [
            "Status Code: 200\n"
          ]
        }
      ],
      "source": [
        "requisicao_api_periodo(url_cotacao_periodo)"
      ]
    },
    {
      "cell_type": "markdown",
      "metadata": {
        "id": "EReT3g18qQ4j"
      },
      "source": [
        "Convertendo em DataFrame"
      ]
    },
    {
      "cell_type": "code",
      "execution_count": 6,
      "metadata": {
        "id": "meT0oRcsqQ4j"
      },
      "outputs": [],
      "source": [
        "jsondata_dia = pd.read_json('resultado_dia.json')"
      ]
    },
    {
      "cell_type": "code",
      "execution_count": 7,
      "metadata": {},
      "outputs": [],
      "source": [
        "jsondata_periodo = pd.read_json('resultado_periodo.json')"
      ]
    },
    {
      "cell_type": "code",
      "execution_count": 8,
      "metadata": {
        "id": "40ylowwB6jTr"
      },
      "outputs": [
        {
          "data": {
            "text/html": [
              "<div>\n",
              "<style scoped>\n",
              "    .dataframe tbody tr th:only-of-type {\n",
              "        vertical-align: middle;\n",
              "    }\n",
              "\n",
              "    .dataframe tbody tr th {\n",
              "        vertical-align: top;\n",
              "    }\n",
              "\n",
              "    .dataframe thead th {\n",
              "        text-align: right;\n",
              "    }\n",
              "</style>\n",
              "<table border=\"1\" class=\"dataframe\">\n",
              "  <thead>\n",
              "    <tr style=\"text-align: right;\">\n",
              "      <th></th>\n",
              "      <th>@odata.context</th>\n",
              "      <th>value</th>\n",
              "    </tr>\n",
              "  </thead>\n",
              "  <tbody>\n",
              "    <tr>\n",
              "      <th>0</th>\n",
              "      <td>https://was-p.bcnet.bcb.gov.br/olinda/servico/...</td>\n",
              "      <td>{'cotacaoCompra': 5.343, 'cotacaoVenda': 5.343...</td>\n",
              "    </tr>\n",
              "  </tbody>\n",
              "</table>\n",
              "</div>"
            ],
            "text/plain": [
              "                                      @odata.context  \\\n",
              "0  https://was-p.bcnet.bcb.gov.br/olinda/servico/...   \n",
              "\n",
              "                                               value  \n",
              "0  {'cotacaoCompra': 5.343, 'cotacaoVenda': 5.343...  "
            ]
          },
          "execution_count": 8,
          "metadata": {},
          "output_type": "execute_result"
        }
      ],
      "source": [
        "jsondata_dia"
      ]
    },
    {
      "cell_type": "code",
      "execution_count": 9,
      "metadata": {},
      "outputs": [
        {
          "data": {
            "text/html": [
              "<div>\n",
              "<style scoped>\n",
              "    .dataframe tbody tr th:only-of-type {\n",
              "        vertical-align: middle;\n",
              "    }\n",
              "\n",
              "    .dataframe tbody tr th {\n",
              "        vertical-align: top;\n",
              "    }\n",
              "\n",
              "    .dataframe thead th {\n",
              "        text-align: right;\n",
              "    }\n",
              "</style>\n",
              "<table border=\"1\" class=\"dataframe\">\n",
              "  <thead>\n",
              "    <tr style=\"text-align: right;\">\n",
              "      <th></th>\n",
              "      <th>@odata.context</th>\n",
              "      <th>value</th>\n",
              "    </tr>\n",
              "  </thead>\n",
              "  <tbody>\n",
              "    <tr>\n",
              "      <th>0</th>\n",
              "      <td>https://was-p.bcnet.bcb.gov.br/olinda/servico/...</td>\n",
              "      <td>{'cotacaoCompra': 5.343, 'cotacaoVenda': 5.343...</td>\n",
              "    </tr>\n",
              "    <tr>\n",
              "      <th>1</th>\n",
              "      <td>https://was-p.bcnet.bcb.gov.br/olinda/servico/...</td>\n",
              "      <td>{'cotacaoCompra': 5.3753, 'cotacaoVenda': 5.37...</td>\n",
              "    </tr>\n",
              "    <tr>\n",
              "      <th>2</th>\n",
              "      <td>https://was-p.bcnet.bcb.gov.br/olinda/servico/...</td>\n",
              "      <td>{'cotacaoCompra': 5.4453, 'cotacaoVenda': 5.44...</td>\n",
              "    </tr>\n",
              "    <tr>\n",
              "      <th>3</th>\n",
              "      <td>https://was-p.bcnet.bcb.gov.br/olinda/servico/...</td>\n",
              "      <td>{'cotacaoCompra': 5.402, 'cotacaoVenda': 5.402...</td>\n",
              "    </tr>\n",
              "    <tr>\n",
              "      <th>4</th>\n",
              "      <td>https://was-p.bcnet.bcb.gov.br/olinda/servico/...</td>\n",
              "      <td>{'cotacaoCompra': 5.2849, 'cotacaoVenda': 5.28...</td>\n",
              "    </tr>\n",
              "    <tr>\n",
              "      <th>...</th>\n",
              "      <td>...</td>\n",
              "      <td>...</td>\n",
              "    </tr>\n",
              "    <tr>\n",
              "      <th>620</th>\n",
              "      <td>https://was-p.bcnet.bcb.gov.br/olinda/servico/...</td>\n",
              "      <td>{'cotacaoCompra': 5.4932, 'cotacaoVenda': 5.49...</td>\n",
              "    </tr>\n",
              "    <tr>\n",
              "      <th>621</th>\n",
              "      <td>https://was-p.bcnet.bcb.gov.br/olinda/servico/...</td>\n",
              "      <td>{'cotacaoCompra': 5.5421, 'cotacaoVenda': 5.54...</td>\n",
              "    </tr>\n",
              "    <tr>\n",
              "      <th>622</th>\n",
              "      <td>https://was-p.bcnet.bcb.gov.br/olinda/servico/...</td>\n",
              "      <td>{'cotacaoCompra': 5.5139, 'cotacaoVenda': 5.51...</td>\n",
              "    </tr>\n",
              "    <tr>\n",
              "      <th>623</th>\n",
              "      <td>https://was-p.bcnet.bcb.gov.br/olinda/servico/...</td>\n",
              "      <td>{'cotacaoCompra': 5.4753, 'cotacaoVenda': 5.47...</td>\n",
              "    </tr>\n",
              "    <tr>\n",
              "      <th>624</th>\n",
              "      <td>https://was-p.bcnet.bcb.gov.br/olinda/servico/...</td>\n",
              "      <td>{'cotacaoCompra': 5.4565, 'cotacaoVenda': 5.45...</td>\n",
              "    </tr>\n",
              "  </tbody>\n",
              "</table>\n",
              "<p>625 rows × 2 columns</p>\n",
              "</div>"
            ],
            "text/plain": [
              "                                        @odata.context  \\\n",
              "0    https://was-p.bcnet.bcb.gov.br/olinda/servico/...   \n",
              "1    https://was-p.bcnet.bcb.gov.br/olinda/servico/...   \n",
              "2    https://was-p.bcnet.bcb.gov.br/olinda/servico/...   \n",
              "3    https://was-p.bcnet.bcb.gov.br/olinda/servico/...   \n",
              "4    https://was-p.bcnet.bcb.gov.br/olinda/servico/...   \n",
              "..                                                 ...   \n",
              "620  https://was-p.bcnet.bcb.gov.br/olinda/servico/...   \n",
              "621  https://was-p.bcnet.bcb.gov.br/olinda/servico/...   \n",
              "622  https://was-p.bcnet.bcb.gov.br/olinda/servico/...   \n",
              "623  https://was-p.bcnet.bcb.gov.br/olinda/servico/...   \n",
              "624  https://was-p.bcnet.bcb.gov.br/olinda/servico/...   \n",
              "\n",
              "                                                 value  \n",
              "0    {'cotacaoCompra': 5.343, 'cotacaoVenda': 5.343...  \n",
              "1    {'cotacaoCompra': 5.3753, 'cotacaoVenda': 5.37...  \n",
              "2    {'cotacaoCompra': 5.4453, 'cotacaoVenda': 5.44...  \n",
              "3    {'cotacaoCompra': 5.402, 'cotacaoVenda': 5.402...  \n",
              "4    {'cotacaoCompra': 5.2849, 'cotacaoVenda': 5.28...  \n",
              "..                                                 ...  \n",
              "620  {'cotacaoCompra': 5.4932, 'cotacaoVenda': 5.49...  \n",
              "621  {'cotacaoCompra': 5.5421, 'cotacaoVenda': 5.54...  \n",
              "622  {'cotacaoCompra': 5.5139, 'cotacaoVenda': 5.51...  \n",
              "623  {'cotacaoCompra': 5.4753, 'cotacaoVenda': 5.47...  \n",
              "624  {'cotacaoCompra': 5.4565, 'cotacaoVenda': 5.45...  \n",
              "\n",
              "[625 rows x 2 columns]"
            ]
          },
          "execution_count": 9,
          "metadata": {},
          "output_type": "execute_result"
        }
      ],
      "source": [
        "jsondata_periodo"
      ]
    },
    {
      "cell_type": "code",
      "execution_count": 10,
      "metadata": {
        "id": "0auyOcQ3xKzU"
      },
      "outputs": [],
      "source": [
        "data_dia = jsondata_dia['value']"
      ]
    },
    {
      "cell_type": "code",
      "execution_count": 11,
      "metadata": {},
      "outputs": [],
      "source": [
        "data_periodo = jsondata_periodo['value']"
      ]
    },
    {
      "cell_type": "code",
      "execution_count": 12,
      "metadata": {
        "id": "RB8qg76KBlWH"
      },
      "outputs": [],
      "source": [
        "dados_dia_df = pd.json_normalize(data_dia)"
      ]
    },
    {
      "cell_type": "code",
      "execution_count": 13,
      "metadata": {},
      "outputs": [],
      "source": [
        "dados_periodo_df = pd.json_normalize(data_periodo)"
      ]
    },
    {
      "cell_type": "markdown",
      "metadata": {
        "id": "AKKhUeGe27n3"
      },
      "source": [
        "Exibindo os primeiros valores do Dataframe"
      ]
    },
    {
      "cell_type": "code",
      "execution_count": 14,
      "metadata": {
        "id": "P3fupEO53AQ0"
      },
      "outputs": [
        {
          "data": {
            "text/html": [
              "<div>\n",
              "<style scoped>\n",
              "    .dataframe tbody tr th:only-of-type {\n",
              "        vertical-align: middle;\n",
              "    }\n",
              "\n",
              "    .dataframe tbody tr th {\n",
              "        vertical-align: top;\n",
              "    }\n",
              "\n",
              "    .dataframe thead th {\n",
              "        text-align: right;\n",
              "    }\n",
              "</style>\n",
              "<table border=\"1\" class=\"dataframe\">\n",
              "  <thead>\n",
              "    <tr style=\"text-align: right;\">\n",
              "      <th></th>\n",
              "      <th>cotacaoCompra</th>\n",
              "      <th>cotacaoVenda</th>\n",
              "      <th>dataHoraCotacao</th>\n",
              "    </tr>\n",
              "  </thead>\n",
              "  <tbody>\n",
              "    <tr>\n",
              "      <th>0</th>\n",
              "      <td>5.343</td>\n",
              "      <td>5.3436</td>\n",
              "      <td>2023-01-02 13:05:57.593</td>\n",
              "    </tr>\n",
              "  </tbody>\n",
              "</table>\n",
              "</div>"
            ],
            "text/plain": [
              "   cotacaoCompra  cotacaoVenda          dataHoraCotacao\n",
              "0          5.343        5.3436  2023-01-02 13:05:57.593"
            ]
          },
          "execution_count": 14,
          "metadata": {},
          "output_type": "execute_result"
        }
      ],
      "source": [
        "dados_dia_df.head()"
      ]
    },
    {
      "cell_type": "code",
      "execution_count": 15,
      "metadata": {},
      "outputs": [
        {
          "data": {
            "text/html": [
              "<div>\n",
              "<style scoped>\n",
              "    .dataframe tbody tr th:only-of-type {\n",
              "        vertical-align: middle;\n",
              "    }\n",
              "\n",
              "    .dataframe tbody tr th {\n",
              "        vertical-align: top;\n",
              "    }\n",
              "\n",
              "    .dataframe thead th {\n",
              "        text-align: right;\n",
              "    }\n",
              "</style>\n",
              "<table border=\"1\" class=\"dataframe\">\n",
              "  <thead>\n",
              "    <tr style=\"text-align: right;\">\n",
              "      <th></th>\n",
              "      <th>cotacaoCompra</th>\n",
              "      <th>cotacaoVenda</th>\n",
              "      <th>dataHoraCotacao</th>\n",
              "    </tr>\n",
              "  </thead>\n",
              "  <tbody>\n",
              "    <tr>\n",
              "      <th>0</th>\n",
              "      <td>5.3430</td>\n",
              "      <td>5.3436</td>\n",
              "      <td>2023-01-02 13:05:57.593</td>\n",
              "    </tr>\n",
              "    <tr>\n",
              "      <th>1</th>\n",
              "      <td>5.3753</td>\n",
              "      <td>5.3759</td>\n",
              "      <td>2023-01-03 13:11:19.08</td>\n",
              "    </tr>\n",
              "    <tr>\n",
              "      <th>2</th>\n",
              "      <td>5.4453</td>\n",
              "      <td>5.4459</td>\n",
              "      <td>2023-01-04 13:09:19.572</td>\n",
              "    </tr>\n",
              "    <tr>\n",
              "      <th>3</th>\n",
              "      <td>5.4020</td>\n",
              "      <td>5.4026</td>\n",
              "      <td>2023-01-05 13:03:32.262</td>\n",
              "    </tr>\n",
              "    <tr>\n",
              "      <th>4</th>\n",
              "      <td>5.2849</td>\n",
              "      <td>5.2855</td>\n",
              "      <td>2023-01-06 13:02:28.727</td>\n",
              "    </tr>\n",
              "  </tbody>\n",
              "</table>\n",
              "</div>"
            ],
            "text/plain": [
              "   cotacaoCompra  cotacaoVenda          dataHoraCotacao\n",
              "0         5.3430        5.3436  2023-01-02 13:05:57.593\n",
              "1         5.3753        5.3759   2023-01-03 13:11:19.08\n",
              "2         5.4453        5.4459  2023-01-04 13:09:19.572\n",
              "3         5.4020        5.4026  2023-01-05 13:03:32.262\n",
              "4         5.2849        5.2855  2023-01-06 13:02:28.727"
            ]
          },
          "execution_count": 15,
          "metadata": {},
          "output_type": "execute_result"
        }
      ],
      "source": [
        "dados_periodo_df.head()"
      ]
    },
    {
      "cell_type": "markdown",
      "metadata": {},
      "source": [
        "Gerando os arquivos .CSV"
      ]
    },
    {
      "cell_type": "code",
      "execution_count": 20,
      "metadata": {},
      "outputs": [],
      "source": [
        "dados_dia_df.to_csv('resultado_dia.csv', sep=';', index=False)"
      ]
    },
    {
      "cell_type": "code",
      "execution_count": 21,
      "metadata": {},
      "outputs": [],
      "source": [
        "dados_periodo_df.to_csv('resultado_periodo.csv', sep=';', index=False)"
      ]
    }
  ],
  "metadata": {
    "colab": {
      "provenance": []
    },
    "kernelspec": {
      "display_name": ".venv (3.13.0)",
      "language": "python",
      "name": "python3"
    },
    "language_info": {
      "codemirror_mode": {
        "name": "ipython",
        "version": 3
      },
      "file_extension": ".py",
      "mimetype": "text/x-python",
      "name": "python",
      "nbconvert_exporter": "python",
      "pygments_lexer": "ipython3",
      "version": "3.13.0"
    }
  },
  "nbformat": 4,
  "nbformat_minor": 0
}
